{
 "cells": [
  {
   "cell_type": "code",
   "execution_count": null,
   "id": "3a02afc1",
   "metadata": {},
   "outputs": [],
   "source": [
    "# imports\n",
    "\n",
    "import os\n",
    "import pandas as pd\n",
    "import chardet\n",
    "import random\n",
    "import csv\n",
    "from gpx_converter import Converter\n",
    "import re"
   ]
  },
  {
   "cell_type": "code",
   "execution_count": null,
   "id": "684d0a4f",
   "metadata": {},
   "outputs": [],
   "source": [
    "# variables\n",
    "startdir = r'D:\\Bachelorarbeit\\Dataset\\created_Dataset\\xlsx_files'\n",
    "file_names = []\n",
    "outputdir = r'D:\\Bachelorarbeit\\Dataset\\created_Dataset\\xlsx_files'"
   ]
  },
  {
   "cell_type": "code",
   "execution_count": null,
   "id": "d95e149d",
   "metadata": {
    "scrolled": true
   },
   "outputs": [],
   "source": [
    "# get all file paths\n",
    "\n",
    "for path, subdir, files in os.walk(startdir):\n",
    "    for file in files:\n",
    "        file_names.append(startdir + \"\\\\\" + file)\n",
    "file_names"
   ]
  },
  {
   "cell_type": "code",
   "execution_count": null,
   "id": "f30625de",
   "metadata": {},
   "outputs": [],
   "source": [
    "# get encoding of files\n",
    "def get_encoding(filepath):\n",
    "    with open(filepath, \"rb\") as f:\n",
    "        content = f.read()\n",
    "    return chardet.detect(content)['encoding']\n",
    "encoding = get_encoding(file_names[0])\n",
    "\n",
    "# cp1252 for ISO-8859-1"
   ]
  },
  {
   "cell_type": "code",
   "execution_count": null,
   "id": "34877e26",
   "metadata": {},
   "outputs": [],
   "source": [
    "# get separator\n",
    "def get_separator(filepath):\n",
    "    with open(filepath, 'r') as csvfile:\n",
    "        delimiter = str(csv.Sniffer().sniff(csvfile.read()).delimiter)\n",
    "        return delimiter\n",
    "separator = get_separator(file_names[0])"
   ]
  },
  {
   "cell_type": "code",
   "execution_count": null,
   "id": "29909e67",
   "metadata": {},
   "outputs": [],
   "source": [
    "# split files with pandas\n",
    "\n",
    "for file in file_names:\n",
    "    i = 0\n",
    "    sep = get_separator(file)\n",
    "    df = pd.read_csv(file,sep=sep, encoding='ascii')\n",
    "    \n",
    "    while len(df) > 700:\n",
    "        i += 1\n",
    "        # split into 500 - 700 lines randomly\n",
    "        num = random.randint(500, 700)\n",
    "        df_new = df.iloc[:num]\n",
    "        df = df.iloc[num:]\n",
    "        \n",
    "        # output files\n",
    "        outp = outputdir +'\\\\'+ file.split(\"\\\\\")[-1].split(\".\")[0] + str(i) + '.csv'\n",
    "        df_new.to_csv(outp)\n",
    "        \n",
    "        if len(df) <= 500:\n",
    "            outp = outputdir +'\\\\' + file.split(\"\\\\\")[-1].split(\".\")[0] + '0' + '.csv'\n",
    "            df.to_csv(outp)\n",
    "            break\n",
    "        \n",
    "    "
   ]
  },
  {
   "cell_type": "code",
   "execution_count": null,
   "id": "bd030814",
   "metadata": {},
   "outputs": [],
   "source": [
    "# split data into folders\n",
    "\n",
    "inp = r'C:\\Users\\achte\\Documents\\KI_Ba\\DS_test\\gps\\IOVNDB_new'\n",
    "outp1 = r'C:\\Users\\achte\\Documents\\KI_Ba\\DS_test\\gps\\csv'\n",
    "outp2 = r'C:\\Users\\achte\\Documents\\KI_Ba\\DS_test\\gps\\xls'\n",
    "outp3 = r'C:\\Users\\achte\\Documents\\KI_Ba\\DS_test\\gps\\gpx'\n",
    "\n",
    "file_names = []\n",
    "\n",
    "for path, subdir, files in os.walk(inp):\n",
    "    for file in files:\n",
    "        file_names.append(inp + \"\\\\\" + file)\n",
    "        \n",
    "# split file_names into 3 equal parts\n",
    "len_names = len(file_names) // 3\n",
    "\n",
    "files1 = file_names[:len_names]\n",
    "files2 = file_names[len_names: len_names*2]\n",
    "files3 = file_names[len_names:]\n",
    "\n",
    "# save files\n",
    "for file in files1:\n",
    "    os.rename(file, outp1 + '\\\\' + file.split(\"\\\\\")[-1])\n",
    "    \n",
    "for file in files2:\n",
    "    os.rename(file, outp2 +  '\\\\' + file.split(\"\\\\\")[-1])\n",
    "    \n",
    "for file in files3:\n",
    "    os.rename(file, outp3 + '\\\\' + file.split(\"\\\\\")[-1])\n"
   ]
  },
  {
   "cell_type": "code",
   "execution_count": null,
   "id": "7c2165f8",
   "metadata": {},
   "outputs": [],
   "source": [
    "#  convert to gpx\n",
    "\n",
    "for file in file_names:\n",
    "        # create dataframe\n",
    "        df = pd.read_csv(file)\n",
    "\n",
    "        # get filepath for output\n",
    "        if outputdir:\n",
    "            outf = outputdir + \"\\\\\" + file.split(\"\\\\\")[-1].split(\".\")[0] + \".gpx\"\n",
    "        else:\n",
    "            outf = file.split(\".\")[0] + \".gpx\"\n",
    "\n",
    "        # check if needed columns there (latitude, longitude)\n",
    "        lat = \"\"\n",
    "        long = \"\"\n",
    "        for name in list(df.columns.values):\n",
    "            if re.search('latitude|lat|LATITUDE|Latitude', name): lat = name\n",
    "            if re.search('longitude|lon|LONGITUDE|Longitude', name): long = name\n",
    "        if lat and long:\n",
    "            Converter.dataframe_to_gpx(df, lats_colname=lat, longs_colname=long, output_file=outf)\n",
    "        else:\n",
    "            print(file + \" is not a gps file\")\n",
    "            "
   ]
  },
  {
   "cell_type": "code",
   "execution_count": null,
   "id": "a24038e4",
   "metadata": {},
   "outputs": [],
   "source": [
    "# convert to xls\n",
    "from spire.xls import *\n",
    "from spire.xls.common import *\n",
    "\n",
    "for file in file_names:\n",
    "        df = pd.read_csv(file)\n",
    "\n",
    "        if outputdir:\n",
    "            outf = outputdir + '\\\\' + file.split(\"\\\\\")[-1].split(\".\")[0] + \".xlsx\" \n",
    "            with pd.ExcelWriter(outf) as writer:\n",
    "                df.to_excel(writer)\n",
    "                \n",
    "        outxls = outputdir + '\\\\' + file.split(\"\\\\\")[-1].split(\".\")[0] + \".xls\"\n",
    "        workbook = Workbook()\n",
    "        workbook.LoadFromFile(outf)\n",
    "        workbook.SaveToFile(outxls, ExcelVersion.Version97to2003)\n",
    "        workbook.Dispose()\n",
    "        os.remove(outf)\n",
    "        "
   ]
  },
  {
   "cell_type": "code",
   "execution_count": null,
   "id": "509599f0",
   "metadata": {},
   "outputs": [],
   "source": []
  }
 ],
 "metadata": {
  "kernelspec": {
   "display_name": "Python 3",
   "language": "python",
   "name": "python3"
  },
  "language_info": {
   "codemirror_mode": {
    "name": "ipython",
    "version": 3
   },
   "file_extension": ".py",
   "mimetype": "text/x-python",
   "name": "python",
   "nbconvert_exporter": "python",
   "pygments_lexer": "ipython3",
   "version": "3.8.8"
  }
 },
 "nbformat": 4,
 "nbformat_minor": 5
}
